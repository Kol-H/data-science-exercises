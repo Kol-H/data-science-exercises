{
 "cells": [
  {
   "cell_type": "code",
   "execution_count": 2,
   "id": "935749a3",
   "metadata": {},
   "outputs": [],
   "source": [
    "import pandas as pd"
   ]
  },
  {
   "cell_type": "markdown",
   "id": "e75f5fc1",
   "metadata": {},
   "source": [
    "## 1"
   ]
  },
  {
   "cell_type": "code",
   "execution_count": 19,
   "id": "5c3dd960",
   "metadata": {},
   "outputs": [],
   "source": [
    "data1 = {\n",
    "    'StudentID': [1, 2, 3, 4],\n",
    "    'Name':      ['Alice', 'Bob', 'Charlie', 'David']\n",
    "}\n",
    "df1 = pd.DataFrame(data1)\n",
    "\n",
    "data2 = {\n",
    "    'StudentID': [3, 4, 5, 6],\n",
    "    'Grade':     ['A', 'B', 'C', 'D']\n",
    "}\n",
    "df2 = pd.DataFrame(data2)"
   ]
  },
  {
   "cell_type": "code",
   "execution_count": 23,
   "id": "39066be9",
   "metadata": {},
   "outputs": [
    {
     "data": {
      "text/html": [
       "<div>\n",
       "<style scoped>\n",
       "    .dataframe tbody tr th:only-of-type {\n",
       "        vertical-align: middle;\n",
       "    }\n",
       "\n",
       "    .dataframe tbody tr th {\n",
       "        vertical-align: top;\n",
       "    }\n",
       "\n",
       "    .dataframe thead th {\n",
       "        text-align: right;\n",
       "    }\n",
       "</style>\n",
       "<table border=\"1\" class=\"dataframe\">\n",
       "  <thead>\n",
       "    <tr style=\"text-align: right;\">\n",
       "      <th></th>\n",
       "      <th>Name</th>\n",
       "      <th>Grade</th>\n",
       "    </tr>\n",
       "    <tr>\n",
       "      <th>StudentID</th>\n",
       "      <th></th>\n",
       "      <th></th>\n",
       "    </tr>\n",
       "  </thead>\n",
       "  <tbody>\n",
       "    <tr>\n",
       "      <th>1</th>\n",
       "      <td>Alice</td>\n",
       "      <td>NaN</td>\n",
       "    </tr>\n",
       "    <tr>\n",
       "      <th>2</th>\n",
       "      <td>Bob</td>\n",
       "      <td>NaN</td>\n",
       "    </tr>\n",
       "    <tr>\n",
       "      <th>3</th>\n",
       "      <td>Charlie</td>\n",
       "      <td>A</td>\n",
       "    </tr>\n",
       "    <tr>\n",
       "      <th>4</th>\n",
       "      <td>David</td>\n",
       "      <td>B</td>\n",
       "    </tr>\n",
       "  </tbody>\n",
       "</table>\n",
       "</div>"
      ],
      "text/plain": [
       "              Name Grade\n",
       "StudentID               \n",
       "1            Alice   NaN\n",
       "2              Bob   NaN\n",
       "3          Charlie     A\n",
       "4            David     B"
      ]
     },
     "execution_count": 23,
     "metadata": {},
     "output_type": "execute_result"
    }
   ],
   "source": [
    "df_left = df1.set_index('StudentID').join(df2.set_index('StudentID'))\n",
    "df_inner = pd.merge(df1, df2)\n",
    "df_outer = pd.merge(df1, df2, how='outer')\n",
    "#df_left #all rows from first df are shown, data from second df only shown if overlapping with data from first df\n",
    "#df_inner #only data that overlaps in both df's is shown\n",
    "#df_outer #all data is shown, even if not overlapping"
   ]
  },
  {
   "cell_type": "markdown",
   "id": "ac4f5a0c",
   "metadata": {},
   "source": [
    "## 2"
   ]
  },
  {
   "cell_type": "code",
   "execution_count": 13,
   "id": "7110792a",
   "metadata": {},
   "outputs": [],
   "source": [
    "data = {\n",
    "    'Salesperson': ['Alice', 'Bob', 'Charlie', 'Alice', 'Bob', 'Charlie'],\n",
    "    'Product':     ['Widget', 'Widget', 'Gadget', 'Gadget', 'Widget', 'Gadget'],\n",
    "    'Quantity':    [4, 2, 3, 5, 6, 1]}\n",
    "df = pd.DataFrame(data)"
   ]
  },
  {
   "cell_type": "code",
   "execution_count": 14,
   "id": "ae32acb7",
   "metadata": {},
   "outputs": [
    {
     "name": "stdout",
     "output_type": "stream",
     "text": [
      "Salesperson\n",
      "Alice      9\n",
      "Bob        8\n",
      "Charlie    4\n",
      "Name: Quantity, dtype: int64\n"
     ]
    }
   ],
   "source": [
    "# sum of quantities of products sold by salespeople\n",
    "grouped = df.groupby('Salesperson')\n",
    "quantity_sold = grouped['Quantity'].sum()\n",
    "print(quantity_sold)"
   ]
  },
  {
   "cell_type": "code",
   "execution_count": 16,
   "id": "80a4516a",
   "metadata": {},
   "outputs": [
    {
     "name": "stdout",
     "output_type": "stream",
     "text": [
      "Product\n",
      "Gadget    3.0\n",
      "Widget    4.0\n",
      "Name: Quantity, dtype: float64\n"
     ]
    }
   ],
   "source": [
    "#average quantity of products\n",
    "grouped2 = df.groupby('Product')\n",
    "quantity_avg = grouped2['Quantity'].mean()\n",
    "print(quantity_avg)"
   ]
  }
 ],
 "metadata": {
  "kernelspec": {
   "display_name": "Python 3 (ipykernel)",
   "language": "python",
   "name": "python3"
  },
  "language_info": {
   "codemirror_mode": {
    "name": "ipython",
    "version": 3
   },
   "file_extension": ".py",
   "mimetype": "text/x-python",
   "name": "python",
   "nbconvert_exporter": "python",
   "pygments_lexer": "ipython3",
   "version": "3.11.4"
  }
 },
 "nbformat": 4,
 "nbformat_minor": 5
}
