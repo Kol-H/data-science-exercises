{
 "cells": [
  {
   "cell_type": "code",
   "execution_count": 39,
   "id": "db51d9fe",
   "metadata": {},
   "outputs": [
    {
     "name": "stdout",
     "output_type": "stream",
     "text": [
      "first: 2\n",
      "last: 50\n",
      "[[0.70908815 0.29383131 0.40788205]\n",
      " [0.37071859 0.16579024 0.28109719]\n",
      " [0.88906197 0.13509893 0.60517492]]\n"
     ]
    }
   ],
   "source": [
    "import numpy as np\n",
    "\n",
    "array1 = np.random.randint(1, 100, (1,10))\n",
    "print('first: ' + str(array1[0][0]))\n",
    "print('last: ' + str(array1[0][9]))\n",
    "\n",
    "array2 = np.random.random((3,3))\n",
    "print(array2)"
   ]
  },
  {
   "cell_type": "code",
   "execution_count": 15,
   "id": "40604dc4",
   "metadata": {},
   "outputs": [
    {
     "name": "stdout",
     "output_type": "stream",
     "text": [
      "[0.19299992 0.55102309 0.14489336]\n",
      "[0.14489336 0.3739641  0.50723421]\n",
      "[[0.19299992 0.55102309]\n",
      " [0.2021848  0.85496914]]\n"
     ]
    }
   ],
   "source": [
    "print(array2[0,:])\n",
    "print(array2[:,2])\n",
    "\n",
    "#create/print sub-array\n",
    "subarray = array2[:2,:2]\n",
    "print(subarray)"
   ]
  },
  {
   "cell_type": "code",
   "execution_count": 33,
   "id": "a324b458",
   "metadata": {},
   "outputs": [
    {
     "name": "stdout",
     "output_type": "stream",
     "text": [
      "[99 72 29 43 53]\n",
      "[26 12 46 54 33]\n",
      "[125  84  75  97  86]\n",
      "[2574  864 1334 2322 1749]\n",
      "[9801 5184  841 1849 2809]\n"
     ]
    }
   ],
   "source": [
    "a1 = np.random.randint(low=0, high=100, size=5)\n",
    "a2 = np.random.randint(low=0, high=100, size=5)\n",
    "print(a1)\n",
    "print(a2)\n",
    "added = a1 + a2\n",
    "print(added)\n",
    "\n",
    "mult = a1 * a2\n",
    "print(mult)\n",
    "\n",
    "sqr = a1 ** 2\n",
    "print(sqr)"
   ]
  },
  {
   "cell_type": "code",
   "execution_count": 37,
   "id": "74c25e1f",
   "metadata": {},
   "outputs": [
    {
     "name": "stdout",
     "output_type": "stream",
     "text": [
      "[[27 42 47]\n",
      " [52  1 78]]\n",
      "[[92 99]\n",
      " [61 97]\n",
      " [77 73]]\n",
      "[[ 8665 10178]\n",
      " [10851 10939]]\n"
     ]
    }
   ],
   "source": [
    "arr1 = np.random.randint(low=0, high=100, size=(2,3))\n",
    "arr2 = np.random.randint(low=0, high=100, size=(3,2))\n",
    "print(arr1)\n",
    "print(arr2)\n",
    "dotmul = np.dot(arr1, arr2)\n",
    "print(dotmul)"
   ]
  },
  {
   "cell_type": "code",
   "execution_count": 38,
   "id": "dfb1aef1",
   "metadata": {},
   "outputs": [
    {
     "ename": "ValueError",
     "evalue": "operands could not be broadcast together with shapes (2,3) (3,2) ",
     "output_type": "error",
     "traceback": [
      "\u001b[1;31m---------------------------------------------------------------------------\u001b[0m",
      "\u001b[1;31mValueError\u001b[0m                                Traceback (most recent call last)",
      "Cell \u001b[1;32mIn[38], line 1\u001b[0m\n\u001b[1;32m----> 1\u001b[0m elmul \u001b[38;5;241m=\u001b[39m arr1 \u001b[38;5;241m*\u001b[39m arr2\n\u001b[0;32m      2\u001b[0m \u001b[38;5;28mprint\u001b[39m(elmul)\n",
      "\u001b[1;31mValueError\u001b[0m: operands could not be broadcast together with shapes (2,3) (3,2) "
     ]
    }
   ],
   "source": [
    "elmul = arr1 * arr2\n",
    "print(elmul)"
   ]
  },
  {
   "cell_type": "markdown",
   "id": "bfa30534",
   "metadata": {},
   "source": [
    "because of their different array shapes, arr1 and arr2 cannot be multiplied together element-wise."
   ]
  }
 ],
 "metadata": {
  "kernelspec": {
   "display_name": "Python 3 (ipykernel)",
   "language": "python",
   "name": "python3"
  },
  "language_info": {
   "codemirror_mode": {
    "name": "ipython",
    "version": 3
   },
   "file_extension": ".py",
   "mimetype": "text/x-python",
   "name": "python",
   "nbconvert_exporter": "python",
   "pygments_lexer": "ipython3",
   "version": "3.11.4"
  }
 },
 "nbformat": 4,
 "nbformat_minor": 5
}
