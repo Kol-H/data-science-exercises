{
 "cells": [
  {
   "cell_type": "markdown",
   "id": "5f7b8ffa",
   "metadata": {},
   "source": [
    "## Factorials\n",
    "\n",
    "This code defines a function factorial(n) and runs it with an example number"
   ]
  },
  {
   "cell_type": "code",
   "execution_count": 1,
   "id": "10525376",
   "metadata": {},
   "outputs": [],
   "source": [
    "def factorial(n):\n",
    "    if n == 0:\n",
    "        return 1\n",
    "    else:\n",
    "        return n * factorial(n-1)\n",
    "        "
   ]
  },
  {
   "cell_type": "code",
   "execution_count": 2,
   "id": "3923d28e",
   "metadata": {},
   "outputs": [
    {
     "data": {
      "text/plain": [
       "120"
      ]
     },
     "execution_count": 2,
     "metadata": {},
     "output_type": "execute_result"
    }
   ],
   "source": [
    "factorial(5)"
   ]
  },
  {
   "cell_type": "markdown",
   "id": "0fa0f976",
   "metadata": {},
   "source": [
    "The factorial function works by recursively multiplying each number by the number before it, until it reaches 0. Once the function reaches 0, the function returns the final number."
   ]
  }
 ],
 "metadata": {
  "kernelspec": {
   "display_name": "Python 3 (ipykernel)",
   "language": "python",
   "name": "python3"
  },
  "language_info": {
   "codemirror_mode": {
    "name": "ipython",
    "version": 3
   },
   "file_extension": ".py",
   "mimetype": "text/x-python",
   "name": "python",
   "nbconvert_exporter": "python",
   "pygments_lexer": "ipython3",
   "version": "3.11.4"
  }
 },
 "nbformat": 4,
 "nbformat_minor": 5
}
